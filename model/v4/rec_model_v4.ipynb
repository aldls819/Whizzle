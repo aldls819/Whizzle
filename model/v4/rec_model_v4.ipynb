{
 "cells": [
  {
   "cell_type": "markdown",
   "id": "5091551f",
   "metadata": {},
   "source": [
    "# 기존 코드 이용\n",
    "---\n",
    "- Min-Max Normalization\n",
    "- user_features : price_tier, flavor(13 columns)\n",
    "- item_features : Categorical [ cagtegory, price_tier, abv, flavor(13 colmuns) ]\n",
    "- interactions : 기본 값 [ rating.csv ] + new_user\n",
    "\n",
    "---\n",
    "## 재학습 최적화\n",
    "---\n",
    "- model_fit_partial이 있지만 시간은 fit과 별 차이가 없음을 확인했습니다.\n",
    "- dataset.fit_partial 또한, 기존 라이브러리로는 item_features, user_features 재학습에 어려움이 있어 매번 불러와야합니다.\n",
    "- user_features의 경우 재학습시 학습된 취향 정보가 들어가고 이 후 예측에서는 그 당시 입력받은 취향 입맛을 사용합니다.\n"
   ]
  },
  {
   "cell_type": "code",
   "execution_count": 10,
   "id": "5e8a2094",
   "metadata": {},
   "outputs": [],
   "source": [
    "import os\n",
    "import pandas as pd\n",
    "import numpy as np\n",
    "from time import time\n",
    "from tqdm.notebook import tqdm\n",
    "import pickle\n",
    "\n",
    "from scipy.sparse import coo_matrix, csr_matrix\n",
    "\n",
    "from lightfm.cross_validation import random_train_test_split\n",
    "from lightfm import LightFM\n",
    "from lightfm.data import Dataset\n",
    "from lightfm.evaluation import precision_at_k, auc_score, recall_at_k\n",
    "\n",
    "from hyperopt import fmin, hp, tpe, Trials"
   ]
  },
  {
   "cell_type": "code",
   "execution_count": 2,
   "id": "3397d437",
   "metadata": {},
   "outputs": [],
   "source": [
    "item_features = pd.read_csv(\"dataset/item_features.csv\", index_col=0, encoding=\"UTF-8\")\n",
    "user_features = pd.read_csv(\"dataset/user_features.csv\", index_col=0, encoding=\"UTF-8\")\n",
    "rating = pd.read_csv(\"../dataset/rating.csv\", index_col=0, encoding=\"UTF-8\")\n",
    "whisky = pd.read_csv(\"../dataset/whisky.csv\", index_col=0, encoding=\"UTF-8\")"
   ]
  },
  {
   "cell_type": "code",
   "execution_count": 3,
   "id": "50d9b4e4",
   "metadata": {},
   "outputs": [
    {
     "data": {
      "text/html": [
       "<div>\n",
       "<style scoped>\n",
       "    .dataframe tbody tr th:only-of-type {\n",
       "        vertical-align: middle;\n",
       "    }\n",
       "\n",
       "    .dataframe tbody tr th {\n",
       "        vertical-align: top;\n",
       "    }\n",
       "\n",
       "    .dataframe thead th {\n",
       "        text-align: right;\n",
       "    }\n",
       "</style>\n",
       "<table border=\"1\" class=\"dataframe\">\n",
       "  <thead>\n",
       "    <tr style=\"text-align: right;\">\n",
       "      <th></th>\n",
       "      <th>category</th>\n",
       "      <th>price_tier</th>\n",
       "      <th>abv</th>\n",
       "      <th>smoky</th>\n",
       "      <th>peaty</th>\n",
       "      <th>spicy</th>\n",
       "      <th>herbal</th>\n",
       "      <th>oily</th>\n",
       "      <th>body</th>\n",
       "      <th>rich</th>\n",
       "      <th>sweet</th>\n",
       "      <th>salty</th>\n",
       "      <th>vanilla</th>\n",
       "      <th>tart</th>\n",
       "      <th>fruity</th>\n",
       "      <th>floral</th>\n",
       "    </tr>\n",
       "  </thead>\n",
       "  <tbody>\n",
       "    <tr>\n",
       "      <th>0</th>\n",
       "      <td>1</td>\n",
       "      <td>4</td>\n",
       "      <td>0.260</td>\n",
       "      <td>0.30</td>\n",
       "      <td>0.85</td>\n",
       "      <td>0.50</td>\n",
       "      <td>0.30</td>\n",
       "      <td>0.20</td>\n",
       "      <td>0.80</td>\n",
       "      <td>0.80</td>\n",
       "      <td>0.85</td>\n",
       "      <td>0.166667</td>\n",
       "      <td>0.20</td>\n",
       "      <td>0.25</td>\n",
       "      <td>0.85</td>\n",
       "      <td>0.526316</td>\n",
       "    </tr>\n",
       "    <tr>\n",
       "      <th>1</th>\n",
       "      <td>12</td>\n",
       "      <td>3</td>\n",
       "      <td>0.260</td>\n",
       "      <td>0.40</td>\n",
       "      <td>0.30</td>\n",
       "      <td>0.40</td>\n",
       "      <td>0.20</td>\n",
       "      <td>0.40</td>\n",
       "      <td>0.70</td>\n",
       "      <td>0.80</td>\n",
       "      <td>0.70</td>\n",
       "      <td>0.444444</td>\n",
       "      <td>0.50</td>\n",
       "      <td>0.50</td>\n",
       "      <td>0.70</td>\n",
       "      <td>0.210526</td>\n",
       "    </tr>\n",
       "    <tr>\n",
       "      <th>2</th>\n",
       "      <td>5</td>\n",
       "      <td>4</td>\n",
       "      <td>0.542</td>\n",
       "      <td>0.15</td>\n",
       "      <td>0.00</td>\n",
       "      <td>0.20</td>\n",
       "      <td>0.00</td>\n",
       "      <td>0.15</td>\n",
       "      <td>0.80</td>\n",
       "      <td>0.90</td>\n",
       "      <td>0.85</td>\n",
       "      <td>0.055556</td>\n",
       "      <td>0.30</td>\n",
       "      <td>0.25</td>\n",
       "      <td>0.35</td>\n",
       "      <td>0.000000</td>\n",
       "    </tr>\n",
       "    <tr>\n",
       "      <th>3</th>\n",
       "      <td>5</td>\n",
       "      <td>3</td>\n",
       "      <td>0.569</td>\n",
       "      <td>0.40</td>\n",
       "      <td>0.00</td>\n",
       "      <td>0.65</td>\n",
       "      <td>0.50</td>\n",
       "      <td>0.20</td>\n",
       "      <td>0.60</td>\n",
       "      <td>0.60</td>\n",
       "      <td>0.45</td>\n",
       "      <td>0.000000</td>\n",
       "      <td>0.60</td>\n",
       "      <td>0.60</td>\n",
       "      <td>0.45</td>\n",
       "      <td>0.000000</td>\n",
       "    </tr>\n",
       "    <tr>\n",
       "      <th>4</th>\n",
       "      <td>12</td>\n",
       "      <td>4</td>\n",
       "      <td>0.478</td>\n",
       "      <td>0.30</td>\n",
       "      <td>0.20</td>\n",
       "      <td>0.40</td>\n",
       "      <td>0.30</td>\n",
       "      <td>0.10</td>\n",
       "      <td>0.75</td>\n",
       "      <td>0.75</td>\n",
       "      <td>0.60</td>\n",
       "      <td>0.222222</td>\n",
       "      <td>0.30</td>\n",
       "      <td>0.20</td>\n",
       "      <td>0.50</td>\n",
       "      <td>0.052632</td>\n",
       "    </tr>\n",
       "    <tr>\n",
       "      <th>...</th>\n",
       "      <td>...</td>\n",
       "      <td>...</td>\n",
       "      <td>...</td>\n",
       "      <td>...</td>\n",
       "      <td>...</td>\n",
       "      <td>...</td>\n",
       "      <td>...</td>\n",
       "      <td>...</td>\n",
       "      <td>...</td>\n",
       "      <td>...</td>\n",
       "      <td>...</td>\n",
       "      <td>...</td>\n",
       "      <td>...</td>\n",
       "      <td>...</td>\n",
       "      <td>...</td>\n",
       "      <td>...</td>\n",
       "    </tr>\n",
       "    <tr>\n",
       "      <th>3530</th>\n",
       "      <td>8</td>\n",
       "      <td>0</td>\n",
       "      <td>0.260</td>\n",
       "      <td>0.35</td>\n",
       "      <td>0.00</td>\n",
       "      <td>0.20</td>\n",
       "      <td>0.00</td>\n",
       "      <td>0.00</td>\n",
       "      <td>0.40</td>\n",
       "      <td>0.55</td>\n",
       "      <td>0.85</td>\n",
       "      <td>0.000000</td>\n",
       "      <td>0.25</td>\n",
       "      <td>0.10</td>\n",
       "      <td>0.10</td>\n",
       "      <td>0.000000</td>\n",
       "    </tr>\n",
       "    <tr>\n",
       "      <th>3531</th>\n",
       "      <td>2</td>\n",
       "      <td>0</td>\n",
       "      <td>0.200</td>\n",
       "      <td>0.00</td>\n",
       "      <td>0.00</td>\n",
       "      <td>0.40</td>\n",
       "      <td>0.20</td>\n",
       "      <td>0.00</td>\n",
       "      <td>0.30</td>\n",
       "      <td>0.00</td>\n",
       "      <td>1.00</td>\n",
       "      <td>0.000000</td>\n",
       "      <td>1.00</td>\n",
       "      <td>0.00</td>\n",
       "      <td>0.60</td>\n",
       "      <td>0.105263</td>\n",
       "    </tr>\n",
       "    <tr>\n",
       "      <th>3532</th>\n",
       "      <td>0</td>\n",
       "      <td>2</td>\n",
       "      <td>0.240</td>\n",
       "      <td>0.90</td>\n",
       "      <td>0.10</td>\n",
       "      <td>0.10</td>\n",
       "      <td>0.10</td>\n",
       "      <td>0.40</td>\n",
       "      <td>0.10</td>\n",
       "      <td>0.10</td>\n",
       "      <td>0.90</td>\n",
       "      <td>0.000000</td>\n",
       "      <td>0.50</td>\n",
       "      <td>0.20</td>\n",
       "      <td>0.30</td>\n",
       "      <td>0.105263</td>\n",
       "    </tr>\n",
       "    <tr>\n",
       "      <th>3533</th>\n",
       "      <td>9</td>\n",
       "      <td>1</td>\n",
       "      <td>0.290</td>\n",
       "      <td>0.00</td>\n",
       "      <td>0.00</td>\n",
       "      <td>0.10</td>\n",
       "      <td>1.00</td>\n",
       "      <td>0.80</td>\n",
       "      <td>0.00</td>\n",
       "      <td>0.00</td>\n",
       "      <td>0.40</td>\n",
       "      <td>0.000000</td>\n",
       "      <td>0.20</td>\n",
       "      <td>0.00</td>\n",
       "      <td>0.00</td>\n",
       "      <td>0.000000</td>\n",
       "    </tr>\n",
       "    <tr>\n",
       "      <th>3534</th>\n",
       "      <td>2</td>\n",
       "      <td>0</td>\n",
       "      <td>0.200</td>\n",
       "      <td>0.31</td>\n",
       "      <td>0.00</td>\n",
       "      <td>0.40</td>\n",
       "      <td>0.29</td>\n",
       "      <td>0.00</td>\n",
       "      <td>0.30</td>\n",
       "      <td>0.40</td>\n",
       "      <td>1.00</td>\n",
       "      <td>0.000000</td>\n",
       "      <td>0.55</td>\n",
       "      <td>0.00</td>\n",
       "      <td>0.30</td>\n",
       "      <td>0.105263</td>\n",
       "    </tr>\n",
       "  </tbody>\n",
       "</table>\n",
       "<p>3535 rows × 16 columns</p>\n",
       "</div>"
      ],
      "text/plain": [
       "      category  price_tier    abv  smoky  peaty  spicy  herbal  oily  body  \\\n",
       "0            1           4  0.260   0.30   0.85   0.50    0.30  0.20  0.80   \n",
       "1           12           3  0.260   0.40   0.30   0.40    0.20  0.40  0.70   \n",
       "2            5           4  0.542   0.15   0.00   0.20    0.00  0.15  0.80   \n",
       "3            5           3  0.569   0.40   0.00   0.65    0.50  0.20  0.60   \n",
       "4           12           4  0.478   0.30   0.20   0.40    0.30  0.10  0.75   \n",
       "...        ...         ...    ...    ...    ...    ...     ...   ...   ...   \n",
       "3530         8           0  0.260   0.35   0.00   0.20    0.00  0.00  0.40   \n",
       "3531         2           0  0.200   0.00   0.00   0.40    0.20  0.00  0.30   \n",
       "3532         0           2  0.240   0.90   0.10   0.10    0.10  0.40  0.10   \n",
       "3533         9           1  0.290   0.00   0.00   0.10    1.00  0.80  0.00   \n",
       "3534         2           0  0.200   0.31   0.00   0.40    0.29  0.00  0.30   \n",
       "\n",
       "      rich  sweet     salty  vanilla  tart  fruity    floral  \n",
       "0     0.80   0.85  0.166667     0.20  0.25    0.85  0.526316  \n",
       "1     0.80   0.70  0.444444     0.50  0.50    0.70  0.210526  \n",
       "2     0.90   0.85  0.055556     0.30  0.25    0.35  0.000000  \n",
       "3     0.60   0.45  0.000000     0.60  0.60    0.45  0.000000  \n",
       "4     0.75   0.60  0.222222     0.30  0.20    0.50  0.052632  \n",
       "...    ...    ...       ...      ...   ...     ...       ...  \n",
       "3530  0.55   0.85  0.000000     0.25  0.10    0.10  0.000000  \n",
       "3531  0.00   1.00  0.000000     1.00  0.00    0.60  0.105263  \n",
       "3532  0.10   0.90  0.000000     0.50  0.20    0.30  0.105263  \n",
       "3533  0.00   0.40  0.000000     0.20  0.00    0.00  0.000000  \n",
       "3534  0.40   1.00  0.000000     0.55  0.00    0.30  0.105263  \n",
       "\n",
       "[3535 rows x 16 columns]"
      ]
     },
     "execution_count": 3,
     "metadata": {},
     "output_type": "execute_result"
    }
   ],
   "source": [
    "item_features"
   ]
  },
  {
   "cell_type": "code",
   "execution_count": 4,
   "id": "6fe0e43b",
   "metadata": {},
   "outputs": [],
   "source": [
    "user_features[\"price_tier\"] = user_features[\"price_tier\"].astype(\"int\")"
   ]
  },
  {
   "cell_type": "code",
   "execution_count": 5,
   "id": "4d4df2c8",
   "metadata": {},
   "outputs": [
    {
     "data": {
      "text/html": [
       "<div>\n",
       "<style scoped>\n",
       "    .dataframe tbody tr th:only-of-type {\n",
       "        vertical-align: middle;\n",
       "    }\n",
       "\n",
       "    .dataframe tbody tr th {\n",
       "        vertical-align: top;\n",
       "    }\n",
       "\n",
       "    .dataframe thead th {\n",
       "        text-align: right;\n",
       "    }\n",
       "</style>\n",
       "<table border=\"1\" class=\"dataframe\">\n",
       "  <thead>\n",
       "    <tr style=\"text-align: right;\">\n",
       "      <th></th>\n",
       "      <th>price_tier</th>\n",
       "      <th>smoky</th>\n",
       "      <th>peaty</th>\n",
       "      <th>spicy</th>\n",
       "      <th>herbal</th>\n",
       "      <th>oily</th>\n",
       "      <th>body</th>\n",
       "      <th>rich</th>\n",
       "      <th>sweet</th>\n",
       "      <th>salty</th>\n",
       "      <th>vanilla</th>\n",
       "      <th>tart</th>\n",
       "      <th>fruity</th>\n",
       "      <th>floral</th>\n",
       "    </tr>\n",
       "  </thead>\n",
       "  <tbody>\n",
       "    <tr>\n",
       "      <th>0</th>\n",
       "      <td>5</td>\n",
       "      <td>0.30</td>\n",
       "      <td>0.85</td>\n",
       "      <td>0.5</td>\n",
       "      <td>0.30</td>\n",
       "      <td>0.20</td>\n",
       "      <td>0.8</td>\n",
       "      <td>0.80</td>\n",
       "      <td>0.85</td>\n",
       "      <td>0.166667</td>\n",
       "      <td>0.20</td>\n",
       "      <td>0.25</td>\n",
       "      <td>0.85</td>\n",
       "      <td>0.526316</td>\n",
       "    </tr>\n",
       "    <tr>\n",
       "      <th>1</th>\n",
       "      <td>5</td>\n",
       "      <td>0.30</td>\n",
       "      <td>0.00</td>\n",
       "      <td>0.4</td>\n",
       "      <td>0.10</td>\n",
       "      <td>0.30</td>\n",
       "      <td>0.7</td>\n",
       "      <td>0.80</td>\n",
       "      <td>0.80</td>\n",
       "      <td>0.111111</td>\n",
       "      <td>0.60</td>\n",
       "      <td>0.20</td>\n",
       "      <td>0.90</td>\n",
       "      <td>0.105263</td>\n",
       "    </tr>\n",
       "    <tr>\n",
       "      <th>2</th>\n",
       "      <td>4</td>\n",
       "      <td>0.30</td>\n",
       "      <td>0.20</td>\n",
       "      <td>0.6</td>\n",
       "      <td>0.20</td>\n",
       "      <td>0.40</td>\n",
       "      <td>0.6</td>\n",
       "      <td>0.60</td>\n",
       "      <td>0.70</td>\n",
       "      <td>0.111111</td>\n",
       "      <td>0.60</td>\n",
       "      <td>0.50</td>\n",
       "      <td>0.70</td>\n",
       "      <td>0.421053</td>\n",
       "    </tr>\n",
       "    <tr>\n",
       "      <th>3</th>\n",
       "      <td>5</td>\n",
       "      <td>0.20</td>\n",
       "      <td>0.00</td>\n",
       "      <td>0.6</td>\n",
       "      <td>0.40</td>\n",
       "      <td>0.30</td>\n",
       "      <td>0.7</td>\n",
       "      <td>0.70</td>\n",
       "      <td>0.60</td>\n",
       "      <td>0.111111</td>\n",
       "      <td>0.40</td>\n",
       "      <td>0.50</td>\n",
       "      <td>0.80</td>\n",
       "      <td>0.315789</td>\n",
       "    </tr>\n",
       "    <tr>\n",
       "      <th>4</th>\n",
       "      <td>4</td>\n",
       "      <td>0.15</td>\n",
       "      <td>0.00</td>\n",
       "      <td>0.2</td>\n",
       "      <td>0.00</td>\n",
       "      <td>0.15</td>\n",
       "      <td>0.8</td>\n",
       "      <td>0.85</td>\n",
       "      <td>0.80</td>\n",
       "      <td>0.055556</td>\n",
       "      <td>0.30</td>\n",
       "      <td>0.25</td>\n",
       "      <td>0.40</td>\n",
       "      <td>0.000000</td>\n",
       "    </tr>\n",
       "    <tr>\n",
       "      <th>...</th>\n",
       "      <td>...</td>\n",
       "      <td>...</td>\n",
       "      <td>...</td>\n",
       "      <td>...</td>\n",
       "      <td>...</td>\n",
       "      <td>...</td>\n",
       "      <td>...</td>\n",
       "      <td>...</td>\n",
       "      <td>...</td>\n",
       "      <td>...</td>\n",
       "      <td>...</td>\n",
       "      <td>...</td>\n",
       "      <td>...</td>\n",
       "      <td>...</td>\n",
       "    </tr>\n",
       "    <tr>\n",
       "      <th>119510</th>\n",
       "      <td>1</td>\n",
       "      <td>0.00</td>\n",
       "      <td>0.00</td>\n",
       "      <td>0.4</td>\n",
       "      <td>0.20</td>\n",
       "      <td>0.00</td>\n",
       "      <td>0.3</td>\n",
       "      <td>0.00</td>\n",
       "      <td>1.00</td>\n",
       "      <td>0.000000</td>\n",
       "      <td>1.00</td>\n",
       "      <td>0.00</td>\n",
       "      <td>0.60</td>\n",
       "      <td>0.105263</td>\n",
       "    </tr>\n",
       "    <tr>\n",
       "      <th>119511</th>\n",
       "      <td>1</td>\n",
       "      <td>0.00</td>\n",
       "      <td>0.00</td>\n",
       "      <td>0.4</td>\n",
       "      <td>0.20</td>\n",
       "      <td>0.00</td>\n",
       "      <td>0.3</td>\n",
       "      <td>0.00</td>\n",
       "      <td>1.00</td>\n",
       "      <td>0.000000</td>\n",
       "      <td>1.00</td>\n",
       "      <td>0.00</td>\n",
       "      <td>0.60</td>\n",
       "      <td>0.105263</td>\n",
       "    </tr>\n",
       "    <tr>\n",
       "      <th>119512</th>\n",
       "      <td>1</td>\n",
       "      <td>0.31</td>\n",
       "      <td>0.00</td>\n",
       "      <td>0.4</td>\n",
       "      <td>0.29</td>\n",
       "      <td>0.00</td>\n",
       "      <td>0.3</td>\n",
       "      <td>0.40</td>\n",
       "      <td>1.00</td>\n",
       "      <td>0.000000</td>\n",
       "      <td>0.55</td>\n",
       "      <td>0.00</td>\n",
       "      <td>0.30</td>\n",
       "      <td>0.105263</td>\n",
       "    </tr>\n",
       "    <tr>\n",
       "      <th>119513</th>\n",
       "      <td>1</td>\n",
       "      <td>0.31</td>\n",
       "      <td>0.00</td>\n",
       "      <td>0.4</td>\n",
       "      <td>0.29</td>\n",
       "      <td>0.00</td>\n",
       "      <td>0.3</td>\n",
       "      <td>0.40</td>\n",
       "      <td>1.00</td>\n",
       "      <td>0.000000</td>\n",
       "      <td>0.55</td>\n",
       "      <td>0.00</td>\n",
       "      <td>0.30</td>\n",
       "      <td>0.105263</td>\n",
       "    </tr>\n",
       "    <tr>\n",
       "      <th>119514</th>\n",
       "      <td>1</td>\n",
       "      <td>0.31</td>\n",
       "      <td>0.00</td>\n",
       "      <td>0.4</td>\n",
       "      <td>0.29</td>\n",
       "      <td>0.00</td>\n",
       "      <td>0.3</td>\n",
       "      <td>0.40</td>\n",
       "      <td>1.00</td>\n",
       "      <td>0.000000</td>\n",
       "      <td>0.55</td>\n",
       "      <td>0.00</td>\n",
       "      <td>0.30</td>\n",
       "      <td>0.105263</td>\n",
       "    </tr>\n",
       "  </tbody>\n",
       "</table>\n",
       "<p>119515 rows × 14 columns</p>\n",
       "</div>"
      ],
      "text/plain": [
       "        price_tier  smoky  peaty  spicy  herbal  oily  body  rich  sweet  \\\n",
       "0                5   0.30   0.85    0.5    0.30  0.20   0.8  0.80   0.85   \n",
       "1                5   0.30   0.00    0.4    0.10  0.30   0.7  0.80   0.80   \n",
       "2                4   0.30   0.20    0.6    0.20  0.40   0.6  0.60   0.70   \n",
       "3                5   0.20   0.00    0.6    0.40  0.30   0.7  0.70   0.60   \n",
       "4                4   0.15   0.00    0.2    0.00  0.15   0.8  0.85   0.80   \n",
       "...            ...    ...    ...    ...     ...   ...   ...   ...    ...   \n",
       "119510           1   0.00   0.00    0.4    0.20  0.00   0.3  0.00   1.00   \n",
       "119511           1   0.00   0.00    0.4    0.20  0.00   0.3  0.00   1.00   \n",
       "119512           1   0.31   0.00    0.4    0.29  0.00   0.3  0.40   1.00   \n",
       "119513           1   0.31   0.00    0.4    0.29  0.00   0.3  0.40   1.00   \n",
       "119514           1   0.31   0.00    0.4    0.29  0.00   0.3  0.40   1.00   \n",
       "\n",
       "           salty  vanilla  tart  fruity    floral  \n",
       "0       0.166667     0.20  0.25    0.85  0.526316  \n",
       "1       0.111111     0.60  0.20    0.90  0.105263  \n",
       "2       0.111111     0.60  0.50    0.70  0.421053  \n",
       "3       0.111111     0.40  0.50    0.80  0.315789  \n",
       "4       0.055556     0.30  0.25    0.40  0.000000  \n",
       "...          ...      ...   ...     ...       ...  \n",
       "119510  0.000000     1.00  0.00    0.60  0.105263  \n",
       "119511  0.000000     1.00  0.00    0.60  0.105263  \n",
       "119512  0.000000     0.55  0.00    0.30  0.105263  \n",
       "119513  0.000000     0.55  0.00    0.30  0.105263  \n",
       "119514  0.000000     0.55  0.00    0.30  0.105263  \n",
       "\n",
       "[119515 rows x 14 columns]"
      ]
     },
     "execution_count": 5,
     "metadata": {},
     "output_type": "execute_result"
    }
   ],
   "source": [
    "user_features"
   ]
  },
  {
   "cell_type": "code",
   "execution_count": 6,
   "id": "ffb2c5f6",
   "metadata": {},
   "outputs": [],
   "source": [
    "item_features = csr_matrix(item_features)\n",
    "user_features = csr_matrix(user_features)"
   ]
  },
  {
   "cell_type": "code",
   "execution_count": 7,
   "id": "8799f9ef",
   "metadata": {
    "scrolled": true
   },
   "outputs": [
    {
     "name": "stdout",
     "output_type": "stream",
     "text": [
      "  (0, 0)\t5.0\n",
      "  (0, 1)\t0.3\n",
      "  (0, 2)\t0.85\n",
      "  (0, 3)\t0.5\n",
      "  (0, 4)\t0.3\n",
      "  (0, 5)\t0.2\n",
      "  (0, 6)\t0.8\n",
      "  (0, 7)\t0.8\n",
      "  (0, 8)\t0.85\n",
      "  (0, 9)\t0.1666666666666666\n",
      "  (0, 10)\t0.2\n",
      "  (0, 11)\t0.25\n",
      "  (0, 12)\t0.85\n",
      "  (0, 13)\t0.5263157894736842\n",
      "  (1, 0)\t5.0\n",
      "  (1, 1)\t0.3\n",
      "  (1, 3)\t0.4\n",
      "  (1, 4)\t0.1\n",
      "  (1, 5)\t0.3\n",
      "  (1, 6)\t0.7000000000000001\n",
      "  (1, 7)\t0.8\n",
      "  (1, 8)\t0.8\n",
      "  (1, 9)\t0.1111111111111111\n",
      "  (1, 10)\t0.6\n",
      "  (1, 11)\t0.2\n",
      "  :\t:\n",
      "  (119512, 7)\t0.4\n",
      "  (119512, 8)\t1.0\n",
      "  (119512, 10)\t0.55\n",
      "  (119512, 12)\t0.3\n",
      "  (119512, 13)\t0.1052631578947368\n",
      "  (119513, 0)\t1.0\n",
      "  (119513, 1)\t0.31\n",
      "  (119513, 3)\t0.4\n",
      "  (119513, 4)\t0.29\n",
      "  (119513, 6)\t0.3\n",
      "  (119513, 7)\t0.4\n",
      "  (119513, 8)\t1.0\n",
      "  (119513, 10)\t0.55\n",
      "  (119513, 12)\t0.3\n",
      "  (119513, 13)\t0.1052631578947368\n",
      "  (119514, 0)\t1.0\n",
      "  (119514, 1)\t0.31\n",
      "  (119514, 3)\t0.4\n",
      "  (119514, 4)\t0.29\n",
      "  (119514, 6)\t0.3\n",
      "  (119514, 7)\t0.4\n",
      "  (119514, 8)\t1.0\n",
      "  (119514, 10)\t0.55\n",
      "  (119514, 12)\t0.3\n",
      "  (119514, 13)\t0.1052631578947368\n"
     ]
    }
   ],
   "source": [
    "print(user_features)"
   ]
  },
  {
   "cell_type": "code",
   "execution_count": 8,
   "id": "a94bde6c",
   "metadata": {},
   "outputs": [],
   "source": [
    "unique_user = rating[\"user_id\"].unique()"
   ]
  },
  {
   "cell_type": "code",
   "execution_count": 9,
   "id": "12ca25f5",
   "metadata": {
    "scrolled": true
   },
   "outputs": [
    {
     "data": {
      "text/plain": [
       "array([     0,      1,      2, ..., 119512, 119513, 119514], dtype=int64)"
      ]
     },
     "execution_count": 9,
     "metadata": {},
     "output_type": "execute_result"
    }
   ],
   "source": [
    "unique_user"
   ]
  },
  {
   "cell_type": "code",
   "execution_count": null,
   "id": "a193cb67",
   "metadata": {},
   "outputs": [],
   "source": []
  },
  {
   "cell_type": "markdown",
   "id": "07d49b19",
   "metadata": {},
   "source": [
    "### make Interactions "
   ]
  },
  {
   "cell_type": "code",
   "execution_count": 12,
   "id": "baff2fae",
   "metadata": {},
   "outputs": [],
   "source": [
    "dataset = Dataset()\n",
    "dataset.fit(users=np.arange(rating.user_id.nunique()), items=np.arange(whisky.whisky_id.nunique()))"
   ]
  },
  {
   "cell_type": "code",
   "execution_count": 13,
   "id": "7d563aa2",
   "metadata": {},
   "outputs": [
    {
     "data": {
      "text/html": [
       "<div>\n",
       "<style scoped>\n",
       "    .dataframe tbody tr th:only-of-type {\n",
       "        vertical-align: middle;\n",
       "    }\n",
       "\n",
       "    .dataframe tbody tr th {\n",
       "        vertical-align: top;\n",
       "    }\n",
       "\n",
       "    .dataframe thead th {\n",
       "        text-align: right;\n",
       "    }\n",
       "</style>\n",
       "<table border=\"1\" class=\"dataframe\">\n",
       "  <thead>\n",
       "    <tr style=\"text-align: right;\">\n",
       "      <th></th>\n",
       "      <th>user_id</th>\n",
       "      <th>whisky_id</th>\n",
       "      <th>rating</th>\n",
       "    </tr>\n",
       "  </thead>\n",
       "  <tbody>\n",
       "    <tr>\n",
       "      <th>0</th>\n",
       "      <td>0</td>\n",
       "      <td>0</td>\n",
       "      <td>9.0</td>\n",
       "    </tr>\n",
       "    <tr>\n",
       "      <th>1</th>\n",
       "      <td>1</td>\n",
       "      <td>0</td>\n",
       "      <td>7.0</td>\n",
       "    </tr>\n",
       "    <tr>\n",
       "      <th>2</th>\n",
       "      <td>2</td>\n",
       "      <td>0</td>\n",
       "      <td>9.0</td>\n",
       "    </tr>\n",
       "    <tr>\n",
       "      <th>3</th>\n",
       "      <td>3</td>\n",
       "      <td>0</td>\n",
       "      <td>10.0</td>\n",
       "    </tr>\n",
       "    <tr>\n",
       "      <th>4</th>\n",
       "      <td>4</td>\n",
       "      <td>0</td>\n",
       "      <td>9.0</td>\n",
       "    </tr>\n",
       "    <tr>\n",
       "      <th>...</th>\n",
       "      <td>...</td>\n",
       "      <td>...</td>\n",
       "      <td>...</td>\n",
       "    </tr>\n",
       "    <tr>\n",
       "      <th>908171</th>\n",
       "      <td>4828</td>\n",
       "      <td>3534</td>\n",
       "      <td>4.0</td>\n",
       "    </tr>\n",
       "    <tr>\n",
       "      <th>908172</th>\n",
       "      <td>119513</td>\n",
       "      <td>3534</td>\n",
       "      <td>2.0</td>\n",
       "    </tr>\n",
       "    <tr>\n",
       "      <th>908173</th>\n",
       "      <td>119514</td>\n",
       "      <td>3534</td>\n",
       "      <td>8.0</td>\n",
       "    </tr>\n",
       "    <tr>\n",
       "      <th>908174</th>\n",
       "      <td>3123</td>\n",
       "      <td>3534</td>\n",
       "      <td>4.0</td>\n",
       "    </tr>\n",
       "    <tr>\n",
       "      <th>908175</th>\n",
       "      <td>95648</td>\n",
       "      <td>3534</td>\n",
       "      <td>2.0</td>\n",
       "    </tr>\n",
       "  </tbody>\n",
       "</table>\n",
       "<p>908176 rows × 3 columns</p>\n",
       "</div>"
      ],
      "text/plain": [
       "        user_id  whisky_id  rating\n",
       "0             0          0     9.0\n",
       "1             1          0     7.0\n",
       "2             2          0     9.0\n",
       "3             3          0    10.0\n",
       "4             4          0     9.0\n",
       "...         ...        ...     ...\n",
       "908171     4828       3534     4.0\n",
       "908172   119513       3534     2.0\n",
       "908173   119514       3534     8.0\n",
       "908174     3123       3534     4.0\n",
       "908175    95648       3534     2.0\n",
       "\n",
       "[908176 rows x 3 columns]"
      ]
     },
     "execution_count": 13,
     "metadata": {},
     "output_type": "execute_result"
    }
   ],
   "source": [
    "rating"
   ]
  },
  {
   "cell_type": "code",
   "execution_count": 19,
   "id": "5b8f2b95",
   "metadata": {},
   "outputs": [
    {
     "name": "stdout",
     "output_type": "stream",
     "text": [
      "CPU times: total: 2 s\n",
      "Wall time: 2 s\n"
     ]
    }
   ],
   "source": [
    "%time interactions, weights = dataset.build_interactions([tuple(x) for x in rating.itertuples(index=False)])"
   ]
  },
  {
   "cell_type": "code",
   "execution_count": 20,
   "id": "6aba4642",
   "metadata": {},
   "outputs": [
    {
     "data": {
      "text/plain": [
       "<119515x3535 sparse matrix of type '<class 'numpy.int32'>'\n",
       "\twith 908176 stored elements in COOrdinate format>"
      ]
     },
     "execution_count": 20,
     "metadata": {},
     "output_type": "execute_result"
    }
   ],
   "source": [
    "interactions"
   ]
  },
  {
   "cell_type": "code",
   "execution_count": 21,
   "id": "572762f8",
   "metadata": {},
   "outputs": [
    {
     "data": {
      "text/plain": [
       "<119515x3535 sparse matrix of type '<class 'numpy.float32'>'\n",
       "\twith 908176 stored elements in COOrdinate format>"
      ]
     },
     "execution_count": 21,
     "metadata": {},
     "output_type": "execute_result"
    }
   ],
   "source": [
    "weights"
   ]
  },
  {
   "cell_type": "code",
   "execution_count": null,
   "id": "fc9a2d2b",
   "metadata": {},
   "outputs": [],
   "source": []
  },
  {
   "cell_type": "code",
   "execution_count": null,
   "id": "17e2c250",
   "metadata": {},
   "outputs": [],
   "source": [
    "rating.shape"
   ]
  },
  {
   "cell_type": "code",
   "execution_count": null,
   "id": "d4092a72",
   "metadata": {},
   "outputs": [],
   "source": [
    "def create_user_item_interactions(rating, n_users, n_items):\n",
    "    interactions = coo_matrix(\n",
    "        (\n",
    "            rating['rating'].values,\n",
    "            (rating['user_id'].values, rating[\"whisky_id\"].values)\n",
    "        ),\n",
    "        shape=(n_users, n_items)\n",
    "    )\n",
    "    return interactions"
   ]
  },
  {
   "cell_type": "code",
   "execution_count": null,
   "id": "ff1dbe03",
   "metadata": {},
   "outputs": [],
   "source": [
    "interactions = create_user_item_interactions(rating, rating[\"user_id\"].nunique(), whisky[\"whisky_id\"].nunique())"
   ]
  },
  {
   "cell_type": "code",
   "execution_count": null,
   "id": "8d72c1b7",
   "metadata": {},
   "outputs": [],
   "source": [
    "rating"
   ]
  },
  {
   "cell_type": "code",
   "execution_count": null,
   "id": "0aeaba0b",
   "metadata": {
    "scrolled": true
   },
   "outputs": [],
   "source": [
    "print(interactions)\n",
    "interactions"
   ]
  },
  {
   "cell_type": "markdown",
   "id": "60b46c26",
   "metadata": {},
   "source": [
    "## Train_Test data split"
   ]
  },
  {
   "cell_type": "code",
   "execution_count": 22,
   "id": "25e7f621",
   "metadata": {},
   "outputs": [],
   "source": [
    "train_interactions, test_interactions = random_train_test_split(interactions, test_percentage=0.2, random_state=42)\n",
    "train_weights, test_weights = random_train_test_split(weights, test_percentage=0.2, random_state=42)"
   ]
  },
  {
   "cell_type": "code",
   "execution_count": 23,
   "id": "d1b0c888",
   "metadata": {},
   "outputs": [],
   "source": [
    "train_interactions, valid_interactions = random_train_test_split(train_interactions, test_percentage=0.2, random_state=42)\n",
    "train_weights, valid_weights = random_train_test_split(train_weights, test_percentage=0.2, random_state=42)"
   ]
  },
  {
   "cell_type": "code",
   "execution_count": 24,
   "id": "d79099e4",
   "metadata": {},
   "outputs": [
    {
     "data": {
      "text/plain": [
       "array([[1, 0, 0, ..., 0, 0, 0],\n",
       "       [0, 0, 0, ..., 0, 0, 0],\n",
       "       [1, 0, 0, ..., 0, 0, 0],\n",
       "       ...,\n",
       "       [0, 0, 0, ..., 0, 0, 0],\n",
       "       [0, 0, 0, ..., 0, 0, 0],\n",
       "       [0, 0, 0, ..., 0, 0, 0]])"
      ]
     },
     "execution_count": 24,
     "metadata": {},
     "output_type": "execute_result"
    }
   ],
   "source": [
    "train_interactions.toarray()"
   ]
  },
  {
   "cell_type": "code",
   "execution_count": 26,
   "id": "f9527281",
   "metadata": {
    "scrolled": true
   },
   "outputs": [
    {
     "data": {
      "text/plain": [
       "array([[9., 0., 0., ..., 0., 0., 0.],\n",
       "       [0., 0., 0., ..., 0., 0., 0.],\n",
       "       [9., 0., 0., ..., 0., 0., 0.],\n",
       "       ...,\n",
       "       [0., 0., 0., ..., 0., 0., 0.],\n",
       "       [0., 0., 0., ..., 0., 0., 0.],\n",
       "       [0., 0., 0., ..., 0., 0., 0.]], dtype=float32)"
      ]
     },
     "execution_count": 26,
     "metadata": {},
     "output_type": "execute_result"
    }
   ],
   "source": [
    "train_weights.toarray()"
   ]
  },
  {
   "cell_type": "code",
   "execution_count": null,
   "id": "c36d6275",
   "metadata": {},
   "outputs": [],
   "source": []
  },
  {
   "cell_type": "markdown",
   "id": "1dd2d440",
   "metadata": {},
   "source": [
    "## Optuna 사용한 HyperParameter 최적화\n",
    "---\n",
    "- learning_rate, alpha 등의 하이퍼 파라미터 값을 작게 설정했을 때보다 높게 설정했을 때 AUC Score가 높게 나오는 경향이 보였습니다.\n",
    "- HyperOPT는 베이지안 최적화 접근 기반인데 이 부분에 제대로 알지 못하기 때문에 전체를 돌려보는 Optuna 방식으로 변경하겠습니다.\n",
    "- Optuna의 경우 시각화도 가능하고, GridSearchCV보다 빠르다는 장점이 있습니다."
   ]
  },
  {
   "cell_type": "code",
   "execution_count": 27,
   "id": "dfeb573a",
   "metadata": {},
   "outputs": [],
   "source": [
    "import optuna"
   ]
  },
  {
   "cell_type": "code",
   "execution_count": 28,
   "id": "cb9a1211",
   "metadata": {},
   "outputs": [],
   "source": [
    "def objective(trial):\n",
    "    \n",
    "    \n",
    "    # 조정할 하이퍼 파라미터\n",
    "    params = {\n",
    "        \"learning_schedule\": 'adagrad',\n",
    "        \"loss\": \"warp\",\n",
    "        \"random_state\": 42,\n",
    "        \"no_components\": trial.suggest_int(\"no_components\", 30, 100, 10),\n",
    "        'learning_rate': trial.suggest_float(\"learning_rate\", 1e-5, 1e-2, log=True),\n",
    "        'item_alpha': trial.suggest_float(\"item_alpha\", 1e-5, 1e-2, log=True),\n",
    "        'user_alpha': trial.suggest_float(\"user_alpha\", 1e-5, 1e-2, log=True),\n",
    "    }\n",
    "\n",
    "    model = LightFM(**params)\n",
    "\n",
    "    model.fit(interactions=train_interactions,\n",
    "              sample_weight=train_weights,\n",
    "              user_features=user_features,\n",
    "              item_features=item_features,\n",
    "              epochs=5,\n",
    "              verbose=True)\n",
    "\n",
    "    test_precision = precision_at_k(model, valid_interactions, k=9, item_features=item_features, user_features=user_features).mean()\n",
    "    test_recall = recall_at_k(model, valid_interactions, k=9, item_features=item_features, user_features=user_features).mean()\n",
    "    test_auc = auc_score(model, valid_interactions, item_features=item_features, user_features=user_features).mean()\n",
    "    \n",
    "    print(\"no_comp: {}, lrn_rate: {:.5f}, item_alpha: {:.5f}, user_alpha: {:.5f}, precision: {:.5f}, recall: {:.5f}, auc_score: {:.5f}\".format(\n",
    "      params[\"no_components\"], params[\"learning_rate\"], params[\"item_alpha\"], params[\"user_alpha\"], test_precision, test_recall, test_auc))\n",
    "    return test_auc"
   ]
  },
  {
   "cell_type": "code",
   "execution_count": null,
   "id": "9616d0fb",
   "metadata": {
    "scrolled": false
   },
   "outputs": [
    {
     "name": "stderr",
     "output_type": "stream",
     "text": [
      "\u001b[32m[I 2023-03-21 14:05:45,587]\u001b[0m A new study created in memory with name: no-name-be166fbd-feae-4a9d-9a2b-4b14a52b4fc1\u001b[0m\n",
      "Epoch: 100%|█████████████████████████████████████████████████████████████████████████████| 5/5 [02:27<00:00, 29.42s/it]\n",
      "\u001b[32m[I 2023-03-21 14:10:57,089]\u001b[0m Trial 0 finished with value: 0.759311318397522 and parameters: {'no_components': 30, 'learning_rate': 0.0006972396655845984, 'item_alpha': 0.00010728365472524597, 'user_alpha': 0.0003188305219635814}. Best is trial 0 with value: 0.759311318397522.\u001b[0m\n"
     ]
    },
    {
     "name": "stdout",
     "output_type": "stream",
     "text": [
      "no_comp: 30, lrn_rate: 0.00070, item_alpha: 0.00011, user_alpha: 0.00032, precision: 0.00116, recall: 0.00437, auc_score: 0.75931\n"
     ]
    },
    {
     "name": "stderr",
     "output_type": "stream",
     "text": [
      "Epoch: 100%|█████████████████████████████████████████████████████████████████████████████| 5/5 [06:14<00:00, 74.92s/it]\n",
      "\u001b[32m[I 2023-03-21 14:23:08,522]\u001b[0m Trial 1 finished with value: 0.7697624564170837 and parameters: {'no_components': 80, 'learning_rate': 0.00146406013549102, 'item_alpha': 0.00039896483923536693, 'user_alpha': 0.0030338727355386274}. Best is trial 1 with value: 0.7697624564170837.\u001b[0m\n"
     ]
    },
    {
     "name": "stdout",
     "output_type": "stream",
     "text": [
      "no_comp: 80, lrn_rate: 0.00146, item_alpha: 0.00040, user_alpha: 0.00303, precision: 0.00169, recall: 0.00618, auc_score: 0.76976\n"
     ]
    },
    {
     "name": "stderr",
     "output_type": "stream",
     "text": [
      "Epoch: 100%|█████████████████████████████████████████████████████████████████████████████| 5/5 [04:36<00:00, 55.29s/it]\n",
      "\u001b[32m[I 2023-03-21 14:32:16,171]\u001b[0m Trial 2 finished with value: 0.7741205096244812 and parameters: {'no_components': 60, 'learning_rate': 0.0016618813933141515, 'item_alpha': 0.0011220278761806654, 'user_alpha': 0.0016713346866201637}. Best is trial 2 with value: 0.7741205096244812.\u001b[0m\n"
     ]
    },
    {
     "name": "stdout",
     "output_type": "stream",
     "text": [
      "no_comp: 60, lrn_rate: 0.00166, item_alpha: 0.00112, user_alpha: 0.00167, precision: 0.00177, recall: 0.00665, auc_score: 0.77412\n"
     ]
    },
    {
     "name": "stderr",
     "output_type": "stream",
     "text": [
      "Epoch: 100%|█████████████████████████████████████████████████████████████████████████████| 5/5 [03:47<00:00, 45.44s/it]\n",
      "\u001b[32m[I 2023-03-21 14:39:56,647]\u001b[0m Trial 3 finished with value: 0.7865231037139893 and parameters: {'no_components': 50, 'learning_rate': 0.0053538268183575535, 'item_alpha': 8.932421953699476e-05, 'user_alpha': 0.0009079445935793858}. Best is trial 3 with value: 0.7865231037139893.\u001b[0m\n"
     ]
    },
    {
     "name": "stdout",
     "output_type": "stream",
     "text": [
      "no_comp: 50, lrn_rate: 0.00535, item_alpha: 0.00009, user_alpha: 0.00091, precision: 0.00344, recall: 0.01483, auc_score: 0.78652\n"
     ]
    },
    {
     "name": "stderr",
     "output_type": "stream",
     "text": [
      "Epoch: 100%|█████████████████████████████████████████████████████████████████████████████| 5/5 [04:50<00:00, 58.04s/it]\n",
      "\u001b[32m[I 2023-03-21 14:49:15,625]\u001b[0m Trial 4 finished with value: 0.7343332767486572 and parameters: {'no_components': 60, 'learning_rate': 5.797788988452296e-05, 'item_alpha': 0.007606547761742977, 'user_alpha': 0.0015725843996544373}. Best is trial 3 with value: 0.7865231037139893.\u001b[0m\n"
     ]
    },
    {
     "name": "stdout",
     "output_type": "stream",
     "text": [
      "no_comp: 60, lrn_rate: 0.00006, item_alpha: 0.00761, user_alpha: 0.00157, precision: 0.00086, recall: 0.00285, auc_score: 0.73433\n"
     ]
    },
    {
     "name": "stderr",
     "output_type": "stream",
     "text": [
      "Epoch: 100%|█████████████████████████████████████████████████████████████████████████████| 5/5 [02:21<00:00, 28.28s/it]\n",
      "\u001b[32m[I 2023-03-21 14:54:21,084]\u001b[0m Trial 5 finished with value: 0.7485226988792419 and parameters: {'no_components': 30, 'learning_rate': 0.00029072270358485426, 'item_alpha': 4.876984999541098e-05, 'user_alpha': 0.00015521629643330234}. Best is trial 3 with value: 0.7865231037139893.\u001b[0m\n"
     ]
    },
    {
     "name": "stdout",
     "output_type": "stream",
     "text": [
      "no_comp: 30, lrn_rate: 0.00029, item_alpha: 0.00005, user_alpha: 0.00016, precision: 0.00088, recall: 0.00308, auc_score: 0.74852\n"
     ]
    },
    {
     "name": "stderr",
     "output_type": "stream",
     "text": [
      "Epoch: 100%|█████████████████████████████████████████████████████████████████████████████| 5/5 [05:13<00:00, 62.69s/it]\n",
      "\u001b[32m[I 2023-03-21 15:04:48,052]\u001b[0m Trial 6 finished with value: 0.7728850245475769 and parameters: {'no_components': 70, 'learning_rate': 0.0027242679187314445, 'item_alpha': 0.0021959441928035006, 'user_alpha': 1.2854323150659998e-05}. Best is trial 3 with value: 0.7865231037139893.\u001b[0m\n"
     ]
    },
    {
     "name": "stdout",
     "output_type": "stream",
     "text": [
      "no_comp: 70, lrn_rate: 0.00272, item_alpha: 0.00220, user_alpha: 0.00001, precision: 0.00293, recall: 0.01224, auc_score: 0.77289\n"
     ]
    },
    {
     "name": "stderr",
     "output_type": "stream",
     "text": [
      "Epoch: 100%|█████████████████████████████████████████████████████████████████████████████| 5/5 [07:32<00:00, 90.54s/it]\n",
      "\u001b[32m[I 2023-03-21 15:20:07,527]\u001b[0m Trial 7 finished with value: 0.7600218653678894 and parameters: {'no_components': 100, 'learning_rate': 0.0004657641910683507, 'item_alpha': 0.007291009388985145, 'user_alpha': 0.0008736708080538514}. Best is trial 3 with value: 0.7865231037139893.\u001b[0m\n"
     ]
    },
    {
     "name": "stdout",
     "output_type": "stream",
     "text": [
      "no_comp: 100, lrn_rate: 0.00047, item_alpha: 0.00729, user_alpha: 0.00087, precision: 0.00113, recall: 0.00426, auc_score: 0.76002\n"
     ]
    },
    {
     "name": "stderr",
     "output_type": "stream",
     "text": [
      "Epoch: 100%|█████████████████████████████████████████████████████████████████████████████| 5/5 [06:19<00:00, 75.85s/it]\n",
      "\u001b[32m[I 2023-03-21 15:32:16,506]\u001b[0m Trial 8 finished with value: 0.7738412618637085 and parameters: {'no_components': 80, 'learning_rate': 0.0024628458273809025, 'item_alpha': 0.005467660243788125, 'user_alpha': 2.1327234586351705e-05}. Best is trial 3 with value: 0.7865231037139893.\u001b[0m\n"
     ]
    },
    {
     "name": "stdout",
     "output_type": "stream",
     "text": [
      "no_comp: 80, lrn_rate: 0.00246, item_alpha: 0.00547, user_alpha: 0.00002, precision: 0.00301, recall: 0.01234, auc_score: 0.77384\n"
     ]
    },
    {
     "name": "stderr",
     "output_type": "stream",
     "text": [
      "Epoch: 100%|█████████████████████████████████████████████████████████████████████████████| 5/5 [03:48<00:00, 45.72s/it]\n",
      "\u001b[32m[I 2023-03-21 15:40:52,234]\u001b[0m Trial 9 finished with value: 0.6588549017906189 and parameters: {'no_components': 40, 'learning_rate': 1.76191361320692e-05, 'item_alpha': 0.00047704022401547937, 'user_alpha': 3.509363847923359e-05}. Best is trial 3 with value: 0.7865231037139893.\u001b[0m\n"
     ]
    },
    {
     "name": "stdout",
     "output_type": "stream",
     "text": [
      "no_comp: 40, lrn_rate: 0.00002, item_alpha: 0.00048, user_alpha: 0.00004, precision: 0.00141, recall: 0.00483, auc_score: 0.65885\n"
     ]
    },
    {
     "name": "stderr",
     "output_type": "stream",
     "text": [
      "Epoch: 100%|█████████████████████████████████████████████████████████████████████████████| 5/5 [05:42<00:00, 68.57s/it]\n",
      "\u001b[32m[I 2023-03-21 15:52:33,913]\u001b[0m Trial 10 finished with value: 0.7884501814842224 and parameters: {'no_components': 50, 'learning_rate': 0.005993320814989723, 'item_alpha': 1.0234093457241084e-05, 'user_alpha': 0.005937913061896029}. Best is trial 10 with value: 0.7884501814842224.\u001b[0m\n"
     ]
    },
    {
     "name": "stdout",
     "output_type": "stream",
     "text": [
      "no_comp: 50, lrn_rate: 0.00599, item_alpha: 0.00001, user_alpha: 0.00594, precision: 0.00347, recall: 0.01499, auc_score: 0.78845\n"
     ]
    },
    {
     "name": "stderr",
     "output_type": "stream",
     "text": [
      "Epoch: 100%|█████████████████████████████████████████████████████████████████████████████| 5/5 [04:26<00:00, 53.29s/it]\n",
      "\u001b[32m[I 2023-03-21 16:00:59,063]\u001b[0m Trial 11 finished with value: 0.7943575382232666 and parameters: {'no_components': 50, 'learning_rate': 0.00945138252983317, 'item_alpha': 1.0660030975758987e-05, 'user_alpha': 0.00888784858349413}. Best is trial 11 with value: 0.7943575382232666.\u001b[0m\n"
     ]
    },
    {
     "name": "stdout",
     "output_type": "stream",
     "text": [
      "no_comp: 50, lrn_rate: 0.00945, item_alpha: 0.00001, user_alpha: 0.00889, precision: 0.00385, recall: 0.01661, auc_score: 0.79436\n"
     ]
    },
    {
     "name": "stderr",
     "output_type": "stream",
     "text": [
      "Epoch: 100%|█████████████████████████████████████████████████████████████████████████████| 5/5 [03:47<00:00, 45.42s/it]\n",
      "\u001b[32m[I 2023-03-21 16:09:22,382]\u001b[0m Trial 12 finished with value: 0.7927873134613037 and parameters: {'no_components': 50, 'learning_rate': 0.00855235358955254, 'item_alpha': 1.299822804153153e-05, 'user_alpha': 0.009024183830404006}. Best is trial 11 with value: 0.7943575382232666.\u001b[0m\n"
     ]
    },
    {
     "name": "stdout",
     "output_type": "stream",
     "text": [
      "no_comp: 50, lrn_rate: 0.00855, item_alpha: 0.00001, user_alpha: 0.00902, precision: 0.00381, recall: 0.01659, auc_score: 0.79279\n"
     ]
    },
    {
     "name": "stderr",
     "output_type": "stream",
     "text": [
      "Epoch: 100%|█████████████████████████████████████████████████████████████████████████████| 5/5 [05:16<00:00, 63.34s/it]\n",
      "\u001b[32m[I 2023-03-21 16:21:10,056]\u001b[0m Trial 13 finished with value: 0.794884443283081 and parameters: {'no_components': 50, 'learning_rate': 0.009993784587732014, 'item_alpha': 1.2160848854017678e-05, 'user_alpha': 0.007303443968922652}. Best is trial 13 with value: 0.794884443283081.\u001b[0m\n"
     ]
    },
    {
     "name": "stdout",
     "output_type": "stream",
     "text": [
      "no_comp: 50, lrn_rate: 0.00999, item_alpha: 0.00001, user_alpha: 0.00730, precision: 0.00382, recall: 0.01656, auc_score: 0.79488\n"
     ]
    },
    {
     "name": "stderr",
     "output_type": "stream",
     "text": [
      "Epoch: 100%|█████████████████████████████████████████████████████████████████████████████| 5/5 [03:08<00:00, 37.77s/it]\n",
      "\u001b[32m[I 2023-03-21 16:29:01,119]\u001b[0m Trial 14 finished with value: 0.7697272300720215 and parameters: {'no_components': 40, 'learning_rate': 0.009773328357015625, 'item_alpha': 2.3332928529345463e-05, 'user_alpha': 0.009225100323641895}. Best is trial 13 with value: 0.794884443283081.\u001b[0m\n"
     ]
    },
    {
     "name": "stdout",
     "output_type": "stream",
     "text": [
      "no_comp: 40, lrn_rate: 0.00977, item_alpha: 0.00002, user_alpha: 0.00923, precision: 0.00297, recall: 0.01260, auc_score: 0.76973\n"
     ]
    },
    {
     "name": "stderr",
     "output_type": "stream",
     "text": [
      "Epoch: 100%|█████████████████████████████████████████████████████████████████████████████| 5/5 [07:47<00:00, 93.43s/it]\n",
      "\u001b[32m[I 2023-03-21 16:42:29,754]\u001b[0m Trial 15 finished with value: 0.7740240693092346 and parameters: {'no_components': 70, 'learning_rate': 0.003937847633821442, 'item_alpha': 3.0057891137041387e-05, 'user_alpha': 0.004441416717994168}. Best is trial 13 with value: 0.794884443283081.\u001b[0m\n"
     ]
    },
    {
     "name": "stdout",
     "output_type": "stream",
     "text": [
      "no_comp: 70, lrn_rate: 0.00394, item_alpha: 0.00003, user_alpha: 0.00444, precision: 0.00300, recall: 0.01259, auc_score: 0.77402\n"
     ]
    },
    {
     "name": "stderr",
     "output_type": "stream",
     "text": [
      "Epoch: 100%|█████████████████████████████████████████████████████████████████████████████| 5/5 [03:06<00:00, 37.36s/it]\n",
      "\u001b[32m[I 2023-03-21 16:48:54,007]\u001b[0m Trial 16 finished with value: 0.7704907655715942 and parameters: {'no_components': 40, 'learning_rate': 0.009977698107957515, 'item_alpha': 1.103249363316108e-05, 'user_alpha': 0.0036746409889844836}. Best is trial 13 with value: 0.794884443283081.\u001b[0m\n"
     ]
    },
    {
     "name": "stdout",
     "output_type": "stream",
     "text": [
      "no_comp: 40, lrn_rate: 0.00998, item_alpha: 0.00001, user_alpha: 0.00367, precision: 0.00303, recall: 0.01284, auc_score: 0.77049\n"
     ]
    },
    {
     "name": "stderr",
     "output_type": "stream",
     "text": [
      "Epoch: 100%|█████████████████████████████████████████████████████████████████████████████| 5/5 [07:32<00:00, 90.51s/it]\n",
      "\u001b[32m[I 2023-03-21 17:04:07,612]\u001b[0m Trial 17 finished with value: 0.7717212438583374 and parameters: {'no_components': 100, 'learning_rate': 0.0011710305966751346, 'item_alpha': 0.00013387133953531442, 'user_alpha': 0.007969190708256189}. Best is trial 13 with value: 0.794884443283081.\u001b[0m\n"
     ]
    },
    {
     "name": "stdout",
     "output_type": "stream",
     "text": [
      "no_comp: 100, lrn_rate: 0.00117, item_alpha: 0.00013, user_alpha: 0.00797, precision: 0.00170, recall: 0.00627, auc_score: 0.77172\n"
     ]
    },
    {
     "name": "stderr",
     "output_type": "stream",
     "text": [
      "Epoch: 100%|█████████████████████████████████████████████████████████████████████████████| 5/5 [04:29<00:00, 53.87s/it]\n",
      "\u001b[32m[I 2023-03-21 17:13:11,894]\u001b[0m Trial 18 finished with value: 0.7868652939796448 and parameters: {'no_components': 60, 'learning_rate': 0.004040000412358335, 'item_alpha': 2.645397920531286e-05, 'user_alpha': 0.003079602550526222}. Best is trial 13 with value: 0.794884443283081.\u001b[0m\n"
     ]
    },
    {
     "name": "stdout",
     "output_type": "stream",
     "text": [
      "no_comp: 60, lrn_rate: 0.00404, item_alpha: 0.00003, user_alpha: 0.00308, precision: 0.00324, recall: 0.01341, auc_score: 0.78687\n"
     ]
    },
    {
     "name": "stderr",
     "output_type": "stream",
     "text": [
      "Epoch: 100%|█████████████████████████████████████████████████████████████████████████████| 5/5 [06:17<00:00, 75.58s/it]\n",
      "\u001b[32m[I 2023-03-21 17:25:18,106]\u001b[0m Trial 19 finished with value: 0.7755270600318909 and parameters: {'no_components': 80, 'learning_rate': 0.003565846855879218, 'item_alpha': 4.599374642666679e-05, 'user_alpha': 0.009472259040417265}. Best is trial 13 with value: 0.794884443283081.\u001b[0m\n"
     ]
    },
    {
     "name": "stdout",
     "output_type": "stream",
     "text": [
      "no_comp: 80, lrn_rate: 0.00357, item_alpha: 0.00005, user_alpha: 0.00947, precision: 0.00318, recall: 0.01320, auc_score: 0.77553\n"
     ]
    },
    {
     "name": "stderr",
     "output_type": "stream",
     "text": [
      "Epoch: 100%|█████████████████████████████████████████████████████████████████████████████| 5/5 [03:53<00:00, 46.77s/it]\n",
      "\u001b[32m[I 2023-03-21 17:34:12,287]\u001b[0m Trial 20 finished with value: 0.7447217106819153 and parameters: {'no_components': 50, 'learning_rate': 0.00016690036041717662, 'item_alpha': 1.635265844388037e-05, 'user_alpha': 0.0020431929584352484}. Best is trial 13 with value: 0.794884443283081.\u001b[0m\n"
     ]
    },
    {
     "name": "stdout",
     "output_type": "stream",
     "text": [
      "no_comp: 50, lrn_rate: 0.00017, item_alpha: 0.00002, user_alpha: 0.00204, precision: 0.00086, recall: 0.00302, auc_score: 0.74472\n"
     ]
    },
    {
     "name": "stderr",
     "output_type": "stream",
     "text": [
      "Epoch: 100%|█████████████████████████████████████████████████████████████████████████████| 5/5 [05:22<00:00, 64.41s/it]\n",
      "\u001b[32m[I 2023-03-21 17:45:41,319]\u001b[0m Trial 21 finished with value: 0.7952060699462891 and parameters: {'no_components': 50, 'learning_rate': 0.00985747807667858, 'item_alpha': 1.1730784307821818e-05, 'user_alpha': 0.009567141149640376}. Best is trial 21 with value: 0.7952060699462891.\u001b[0m\n"
     ]
    },
    {
     "name": "stdout",
     "output_type": "stream",
     "text": [
      "no_comp: 50, lrn_rate: 0.00986, item_alpha: 0.00001, user_alpha: 0.00957, precision: 0.00389, recall: 0.01672, auc_score: 0.79521\n"
     ]
    },
    {
     "name": "stderr",
     "output_type": "stream",
     "text": [
      "Epoch: 100%|█████████████████████████████████████████████████████████████████████████████| 5/5 [04:03<00:00, 48.77s/it]\n",
      "\u001b[32m[I 2023-03-21 17:53:07,195]\u001b[0m Trial 22 finished with value: 0.7683109641075134 and parameters: {'no_components': 40, 'learning_rate': 0.005449795162936488, 'item_alpha': 1.0199038855024987e-05, 'user_alpha': 0.005120007490177888}. Best is trial 21 with value: 0.7952060699462891.\u001b[0m\n"
     ]
    },
    {
     "name": "stdout",
     "output_type": "stream",
     "text": [
      "no_comp: 40, lrn_rate: 0.00545, item_alpha: 0.00001, user_alpha: 0.00512, precision: 0.00281, recall: 0.01182, auc_score: 0.76831\n"
     ]
    },
    {
     "name": "stderr",
     "output_type": "stream",
     "text": [
      "Epoch: 100%|█████████████████████████████████████████████████████████████████████████████| 5/5 [03:39<00:00, 44.00s/it]\n"
     ]
    }
   ],
   "source": [
    "study = optuna.create_study(direction='maximize')\n",
    "study.optimize(objective, n_trials=30)\n",
    "print(study.best_trial.params)"
   ]
  },
  {
   "cell_type": "markdown",
   "id": "4be62785",
   "metadata": {},
   "source": [
    "BEST no_comp: 120, lrn_rate: 0.01000, item_alpha: 0.05000, user_alpha: 0.01000, precision: 0.00468, recall: 0.02312, auc_score: 0.80381"
   ]
  },
  {
   "cell_type": "code",
   "execution_count": null,
   "id": "8270b57c",
   "metadata": {
    "scrolled": true
   },
   "outputs": [],
   "source": [
    "print(\"Best Params : {}\".format(study.best_params))\n",
    "print()\n",
    "print(\"Best Trials : {}\".format(study.best_trials))\n",
    "print()\n",
    "print(\"Best Values : {}\".format(study.best_value))"
   ]
  },
  {
   "cell_type": "code",
   "execution_count": null,
   "id": "e05ea63a",
   "metadata": {},
   "outputs": [],
   "source": []
  },
  {
   "cell_type": "code",
   "execution_count": null,
   "id": "ed8ef786",
   "metadata": {},
   "outputs": [],
   "source": []
  },
  {
   "cell_type": "code",
   "execution_count": null,
   "id": "c03a7214",
   "metadata": {},
   "outputs": [],
   "source": []
  },
  {
   "cell_type": "markdown",
   "id": "bbaa66ac",
   "metadata": {},
   "source": [
    "## Best Parameter fitting"
   ]
  },
  {
   "cell_type": "code",
   "execution_count": null,
   "id": "09f073bc",
   "metadata": {},
   "outputs": [],
   "source": [
    "model = LightFM(\n",
    "    no_components=120, learning_rate=0.01000, item_alpha=0.0500, user_alpha=0.01000,learning_schedule='adagrad',loss=\"warp\", random_state=42\n",
    ")\n",
    "%time model.fit(interactions=train_interactions, user_features=user_features, item_features=item_features, epochs=10, verbose=True)"
   ]
  },
  {
   "cell_type": "code",
   "execution_count": null,
   "id": "9a6d9df2",
   "metadata": {},
   "outputs": [],
   "source": [
    "test_precision = precision_at_k(model, test_interactions, user_features=user_features, item_features=item_features, k=9).mean()\n",
    "test_recall = recall_at_k(model, test_interactions,  user_features=user_features, item_features=item_features, k=9).mean()\n",
    "test_auc = auc_score(model, test_interactions, user_features=user_features, item_features=item_features).mean()\n",
    "\n",
    "print(\"Train precision: %.5f\" % test_precision)\n",
    "print(\"Test precision: %.5f\" % test_recall)\n",
    "print(\"Test AUC Score : %.5f\" % test_auc)"
   ]
  },
  {
   "cell_type": "code",
   "execution_count": null,
   "id": "4c70dd2f",
   "metadata": {},
   "outputs": [],
   "source": []
  },
  {
   "cell_type": "code",
   "execution_count": null,
   "id": "3edcfc22",
   "metadata": {},
   "outputs": [],
   "source": [
    "model2 = LightFM(\n",
    "    no_components=120, learning_rate=0.01000, item_alpha=0.0500, user_alpha=0.01000,learning_schedule='adagrad',loss=\"warp\", random_state=42\n",
    ")\n",
    "%time model2.fit(interactions=train_interactions, user_features=user_features, item_features=item_features, epochs=5, verbose=True)"
   ]
  },
  {
   "cell_type": "code",
   "execution_count": null,
   "id": "65c72067",
   "metadata": {
    "scrolled": true
   },
   "outputs": [],
   "source": [
    "test_precision = precision_at_k(model2, test_interactions, user_features=user_features, item_features=item_features, k=9).mean()\n",
    "test_recall = recall_at_k(model2, test_interactions,  user_features=user_features, item_features=item_features, k=9).mean()\n",
    "test_auc = auc_score(model2, test_interactions, user_features=user_features, item_features=item_features).mean()\n",
    "\n",
    "print(\"Train precision: %.5f\" % test_precision)\n",
    "print(\"Test precision: %.5f\" % test_recall)\n",
    "print(\"Test AUC Score : %.5f\" % test_auc)"
   ]
  },
  {
   "cell_type": "code",
   "execution_count": null,
   "id": "9f8949fc",
   "metadata": {},
   "outputs": [],
   "source": []
  },
  {
   "cell_type": "code",
   "execution_count": null,
   "id": "df1ec104",
   "metadata": {},
   "outputs": [],
   "source": []
  },
  {
   "cell_type": "markdown",
   "id": "40d31f37",
   "metadata": {},
   "source": [
    "# 시간 고려한 최적 모델\n",
    "---\n",
    "- 시간까지 고려했을 때, 아래 hyper parameter가 좀 더 합리적이다"
   ]
  },
  {
   "cell_type": "markdown",
   "id": "5a5f0d89",
   "metadata": {},
   "source": [
    "BEST no_comp: 60, lrn_rate: 0.01000, item_alpha: 0.05000, user_alpha: 0.01000, precision: 0.00430, recall: 0.02030, auc_score: 0.80244"
   ]
  },
  {
   "cell_type": "code",
   "execution_count": null,
   "id": "4269aa9e",
   "metadata": {},
   "outputs": [],
   "source": [
    "model3 = LightFM(\n",
    "    no_components=60, learning_rate=0.01000, item_alpha=0.0500, user_alpha=0.01000,learning_schedule='adagrad',loss=\"warp\", random_state=42\n",
    ")\n",
    "%time model3.fit(interactions=train_interactions, user_features=user_features, item_features=item_features, epochs=5, verbose=True)"
   ]
  },
  {
   "cell_type": "code",
   "execution_count": null,
   "id": "6638aee0",
   "metadata": {},
   "outputs": [],
   "source": [
    "test_precision = precision_at_k(model3, test_interactions, user_features=user_features, item_features=item_features, k=9).mean()\n",
    "test_recall = recall_at_k(model3, test_interactions,  user_features=user_features, item_features=item_features, k=9).mean()\n",
    "test_auc = auc_score(model3, test_interactions, user_features=user_features, item_features=item_features).mean()\n",
    "\n",
    "print(\"Train precision: %.5f\" % test_precision)\n",
    "print(\"Test precision: %.5f\" % test_recall)\n",
    "print(\"Test AUC Score : %.5f\" % test_auc)"
   ]
  },
  {
   "cell_type": "code",
   "execution_count": null,
   "id": "46d893e2",
   "metadata": {},
   "outputs": [],
   "source": []
  },
  {
   "cell_type": "code",
   "execution_count": null,
   "id": "1e72ddc2",
   "metadata": {},
   "outputs": [],
   "source": [
    "# save the model to a file\n",
    "with open('rec_model.pkl', 'wb') as f:\n",
    "    pickle.dump(model3, f)"
   ]
  },
  {
   "cell_type": "code",
   "execution_count": null,
   "id": "a3b0fca8",
   "metadata": {},
   "outputs": [],
   "source": []
  },
  {
   "cell_type": "code",
   "execution_count": null,
   "id": "54231f49",
   "metadata": {},
   "outputs": [],
   "source": []
  },
  {
   "cell_type": "code",
   "execution_count": null,
   "id": "1d551fe9",
   "metadata": {},
   "outputs": [],
   "source": []
  },
  {
   "cell_type": "code",
   "execution_count": null,
   "id": "851553dc",
   "metadata": {},
   "outputs": [],
   "source": []
  },
  {
   "cell_type": "code",
   "execution_count": null,
   "id": "697fd38d",
   "metadata": {},
   "outputs": [],
   "source": [
    "with open('model/model_v4.pkl', 'rb') as f:\n",
    "    model_temp = pickle.load(f)\n"
   ]
  },
  {
   "cell_type": "code",
   "execution_count": null,
   "id": "975e6f7d",
   "metadata": {},
   "outputs": [],
   "source": [
    "test_precision = precision_at_k(model_temp, test_interactions, user_features=user_features, item_features=item_features, k=9).mean()\n",
    "test_recall = recall_at_k(model_temp, test_interactions,  user_features=user_features, item_features=item_features, k=9).mean()\n",
    "test_auc = auc_score(model_temp, test_interactions, user_features=user_features, item_features=item_features).mean()\n",
    "\n",
    "print(\"Train precision: %.5f\" % test_precision)\n",
    "print(\"Test precision: %.5f\" % test_recall)\n",
    "print(\"Test AUC Score : %.5f\" % test_auc)"
   ]
  },
  {
   "cell_type": "code",
   "execution_count": null,
   "id": "89d01adc",
   "metadata": {},
   "outputs": [],
   "source": []
  },
  {
   "cell_type": "code",
   "execution_count": null,
   "id": "29362252",
   "metadata": {},
   "outputs": [],
   "source": []
  },
  {
   "cell_type": "code",
   "execution_count": null,
   "id": "b3d13b88",
   "metadata": {},
   "outputs": [],
   "source": []
  },
  {
   "cell_type": "code",
   "execution_count": null,
   "id": "b8902289",
   "metadata": {},
   "outputs": [],
   "source": []
  },
  {
   "cell_type": "code",
   "execution_count": null,
   "id": "f0d1637d",
   "metadata": {},
   "outputs": [],
   "source": []
  },
  {
   "cell_type": "code",
   "execution_count": null,
   "id": "c2b6c26c",
   "metadata": {},
   "outputs": [],
   "source": []
  },
  {
   "cell_type": "code",
   "execution_count": null,
   "id": "9cde4b4a",
   "metadata": {},
   "outputs": [],
   "source": []
  },
  {
   "cell_type": "code",
   "execution_count": null,
   "id": "4d1568a9",
   "metadata": {},
   "outputs": [],
   "source": []
  },
  {
   "cell_type": "code",
   "execution_count": null,
   "id": "5e992740",
   "metadata": {},
   "outputs": [],
   "source": []
  }
 ],
 "metadata": {
  "kernelspec": {
   "display_name": "Python 3 (ipykernel)",
   "language": "python",
   "name": "python3"
  },
  "language_info": {
   "codemirror_mode": {
    "name": "ipython",
    "version": 3
   },
   "file_extension": ".py",
   "mimetype": "text/x-python",
   "name": "python",
   "nbconvert_exporter": "python",
   "pygments_lexer": "ipython3",
   "version": "3.9.16"
  }
 },
 "nbformat": 4,
 "nbformat_minor": 5
}
